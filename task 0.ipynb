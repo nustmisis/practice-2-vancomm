{
 "cells": [
  {
   "cell_type": "markdown",
   "id": "7d962e73",
   "metadata": {},
   "source": [
    "# Задание c использованием конструктива if else"
   ]
  },
  {
   "cell_type": "markdown",
   "id": "aab8a0c7",
   "metadata": {},
   "source": [
    "## Упражнение 1. Чет или нечет?\n",
    "Напишите программу, запрашивающую у пользователя целое число и выводящую на экран информацию о том, является введенное число четным или нечетным."
   ]
  },
  {
   "cell_type": "code",
   "execution_count": 4,
   "id": "a8f388a9",
   "metadata": {},
   "outputs": [
    {
     "name": "stdout",
     "output_type": "stream",
     "text": [
      "1234 is even\n"
     ]
    }
   ],
   "source": [
    "if (num := int(input(\"Enter a number: \"))) % 2 == 0:\n",
    "    print(f\"{num} is even\")\n",
    "else:\n",
    "    print(f\"{num} is odd\")"
   ]
  },
  {
   "cell_type": "markdown",
   "id": "81614de6",
   "metadata": {},
   "source": [
    "## Упражнение 2. Англиские гласные и согласные\n",
    "Разработайте программу, запрашивающую у пользователя букву латинского алфавита. Если введенная буква входит в следующий список (a, e, i, o или u), необходимо вывести сообщение о том, что эта буква гласная.\n",
    "Если была введена буква y, программа должна написать, что эта буква может быть как гласной, так и согласной. Во всех других случаях должно выводиться сообщение о том, что введена согласная буква\n",
    "\n"
   ]
  },
  {
   "cell_type": "code",
   "execution_count": 7,
   "id": "1e482b46",
   "metadata": {},
   "outputs": [
    {
     "name": "stdout",
     "output_type": "stream",
     "text": [
      "e is a vowel\n"
     ]
    }
   ],
   "source": [
    "if (letter := input(\"Enter a Latin letter: \")) in \"aiueo\":\n",
    "    print(f\"{letter} is a vowel\")\n",
    "elif letter == 'y':\n",
    "    print(f'{letter} can be both a vowel and a consonant')\n",
    "else:\n",
    "    print(f\"{letter} is a consonant\")"
   ]
  },
  {
   "cell_type": "markdown",
   "id": "b9f4dd78",
   "metadata": {},
   "source": [
    "# Задание c использованием циклов"
   ]
  },
  {
   "cell_type": "markdown",
   "id": "b80748b0",
   "metadata": {},
   "source": [
    "## Упражнение 3 Таблица соотношения температур\n",
    "\n",
    "Напишите программу для вывода таблицы соотношения температур, выраженных в градусах Цельсия и Фаренгейта. В таблице должны размещаться все температуры между 0 и 100 градусами Цельсия, кратные 10. Дополните таблицу подходящими заголовками. Формулу для перевода температуры из градусов Цельсия в градусы Фаренгейта можно легко найти на просторах интернета."
   ]
  },
  {
   "cell_type": "code",
   "execution_count": 3,
   "id": "57ef7b75",
   "metadata": {},
   "outputs": [
    {
     "name": "stdout",
     "output_type": "stream",
     "text": [
      "  C |   F\n",
      "----+----\n",
      "  0 |  32\n",
      " 10 |  50\n",
      " 20 |  68\n",
      " 30 |  86\n",
      " 40 | 104\n",
      " 50 | 122\n",
      " 60 | 140\n",
      " 70 | 158\n",
      " 80 | 176\n",
      " 90 | 194\n",
      "100 | 212\n"
     ]
    }
   ],
   "source": [
    "def c2f(c: float) -> float:\n",
    "    return c * (9/5) + 32\n",
    "\n",
    "print(\"  C |   F\")\n",
    "print(\"----+----\")\n",
    "print(\"\\n\".join(f\"{c: >3} | {c2f(c): >3g}\" for c in range(0, 101, 10)))"
   ]
  },
  {
   "cell_type": "markdown",
   "id": "7ddac016",
   "metadata": {},
   "source": [
    "## Упражнение 4. Простое число?\n",
    "Простое число представляет собой число, большее единицы, которое без\n",
    "остатка делится лишь на само себя и единицу. Напишите функцию для\n",
    "определения того, является ли введенное число простым. Возвращаемое\n",
    "значение должно быть либо True, либо False. В основной программе, как\n",
    "и ожидается, пользователь должен ввести целое число и получить ответ\n",
    "о том, является ли оно простым."
   ]
  },
  {
   "cell_type": "code",
   "execution_count": 41,
   "id": "072dc701",
   "metadata": {},
   "outputs": [
    {
     "name": "stdout",
     "output_type": "stream",
     "text": [
      "5641 is prime\n"
     ]
    }
   ],
   "source": [
    "import math\n",
    "\n",
    "def is_prime(num: int) -> bool:\n",
    "    if num <= 1:\n",
    "        return False\n",
    "\n",
    "    if num <= 3:\n",
    "        return True\n",
    "\n",
    "    if num % 2 == 0 or num % 3 == 0:\n",
    "        return False\n",
    "\n",
    "    for i in range(2, math.ceil(num ** 0.5) + 1):\n",
    "        if num % i == 0:\n",
    "            return False\n",
    "        \n",
    "    return True\n",
    "\n",
    "\n",
    "num = int(input(\"Enter a number: \"))\n",
    "p = \"prime\" if is_prime(num) else \"not prime\"\n",
    "print(f\"{num} is {p}\")"
   ]
  },
  {
   "cell_type": "markdown",
   "id": "78766eb9",
   "metadata": {},
   "source": [
    "# Упражнение 5. Подбрасываем монетку\n",
    "\n",
    "Какое минимальное количество раз вы должны подбросить монетку, что-бы три раза подряд выпал либо орел, либо решка? А какое максимальное количество попыток может для этого понадобиться? А в среднем? В данном упражнении мы выясним это, создав симулятор подбрасывания виртуальной монетки.\n",
    "\n",
    "Напишите программу, использующую для подброса монетки генератор случайных чисел Python. Монетка при этом должна быть правильной формы, что означает равную вероятность выпадения орла и решки. Под брасывать монетку необходимо до тех пор, пока три раза подряд не выпадет одно значение, вне зависимости от того, орел это будет или решка.\n",
    "Выводите на экран букву О всякий раз, когда выпадает орел, и Р – когда выпадает решка. При этом для одной симуляции бросков все выпавшие значения необходимо размещать на одной строке. Также необходимо известить пользователя о том, сколько попыток потребовалось, чтобы получить нужный результат.\n",
    "\n",
    "Программа должна выполнить десять симуляций и в конце представить среднее количество подбрасываний монетки, требуемое для достижения нужного нам результата.\n",
    "\n",
    "Пример вывода программы показан ниже:\n",
    "```\n",
    "О Р Р Р (попыток: 4)\n",
    "О О Р Р О Р О Р Р О О Р О Р Р О Р Р Р (попыток: 19)\n",
    "Р Р Р (попыток: 3)\n",
    "Р О О О (попыток: 4)\n",
    "О О О (попыток: 3)\n",
    "Р О Р Р О Р О О Р Р О О Р О Р О О О (попыток: 18)\n",
    "О Р Р О О О (попыток: 6)\n",
    "Р О Р Р Р (попыток: 5)\n",
    "Р Р О Р Р О Р О Р О О О (попыток: 12)\n",
    "Р О Р Р Р (попыток: 5)\n",
    "Среднее количество попыток: 7,9\n",
    "```"
   ]
  },
  {
   "cell_type": "code",
   "execution_count": 9,
   "id": "d85fa9f7",
   "metadata": {},
   "outputs": [
    {
     "name": "stdout",
     "output_type": "stream",
     "text": [
      "O O Р Р Р (попыток: 5)\n",
      "O Р O O O (попыток: 5)\n",
      "O Р O O Р O O O (попыток: 8)\n",
      "Р O O O (попыток: 4)\n",
      "O O O (попыток: 3)\n",
      "Р Р Р (попыток: 3)\n",
      "O Р Р Р (попыток: 4)\n",
      "Р O O Р Р Р (попыток: 6)\n",
      "Р Р Р (попыток: 3)\n",
      "Р O O O (попыток: 4)\n",
      "Среднее количество попыток: 4.5\n"
     ]
    }
   ],
   "source": [
    "import random\n",
    "import statistics\n",
    "\n",
    "\n",
    "def flip_coin() -> bool:\n",
    "    \"\"\"Returns `True` for heads and `False` for tails.\"\"\"\n",
    "    return random.random() > 0.5\n",
    "\n",
    "\n",
    "def run() -> list[bool]:\n",
    "    outcomes: list[bool] = []\n",
    "\n",
    "    heads = 0\n",
    "    tails = 0\n",
    "\n",
    "    while True:\n",
    "        is_heads = flip_coin()\n",
    "        outcomes.append(is_heads)\n",
    "\n",
    "        if is_heads:\n",
    "            heads += 1\n",
    "            tails = 0\n",
    "        else:\n",
    "            heads = 0\n",
    "            tails += 1\n",
    "\n",
    "        if heads >= 3 or tails >= 3:\n",
    "            return outcomes\n",
    "        \n",
    "\n",
    "attempts_per_run: list[int] = []\n",
    "\n",
    "for _ in range(10):\n",
    "    outcomes = run()\n",
    "    attempts_per_run.append(len(outcomes))\n",
    "    message = f'{\" \".join(\"Р\" if is_heads else \"O\" for is_heads in outcomes)} (попыток: {len(outcomes)})'\n",
    "    print(message)\n",
    "\n",
    "print(f\"Среднее количество попыток: {statistics.mean(attempts_per_run):.2}\")"
   ]
  }
 ],
 "metadata": {
  "kernelspec": {
   "display_name": "Python 3",
   "language": "python",
   "name": "python3"
  },
  "language_info": {
   "codemirror_mode": {
    "name": "ipython",
    "version": 3
   },
   "file_extension": ".py",
   "mimetype": "text/x-python",
   "name": "python",
   "nbconvert_exporter": "python",
   "pygments_lexer": "ipython3",
   "version": "3.11.4"
  }
 },
 "nbformat": 4,
 "nbformat_minor": 5
}
